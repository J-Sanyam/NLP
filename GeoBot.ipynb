{
 "cells": [
  {
   "cell_type": "code",
   "execution_count": 1,
   "id": "dd20786a-1a45-4b87-b0de-b1899c98ad7c",
   "metadata": {},
   "outputs": [],
   "source": [
    "import numpy as np\n",
    "import nltk\n",
    "import string\n",
    "import random"
   ]
  },
  {
   "cell_type": "code",
   "execution_count": 2,
   "id": "83e0f952-0b3c-48ca-8909-8179d49c7c51",
   "metadata": {},
   "outputs": [
    {
     "name": "stderr",
     "output_type": "stream",
     "text": [
      "[nltk_data] Error loading punkt: <urlopen error [WinError 10060] A\n",
      "[nltk_data]     connection attempt failed because the connected party\n",
      "[nltk_data]     did not properly respond after a period of time, or\n",
      "[nltk_data]     established connection failed because connected host\n",
      "[nltk_data]     has failed to respond>\n",
      "[nltk_data] Error loading wordnet: <urlopen error [WinError 10060] A\n",
      "[nltk_data]     connection attempt failed because the connected party\n",
      "[nltk_data]     did not properly respond after a period of time, or\n",
      "[nltk_data]     established connection failed because connected host\n",
      "[nltk_data]     has failed to respond>\n"
     ]
    }
   ],
   "source": [
    "f = open('USA.txt', 'r', errors = 'ignore')\n",
    "raw_doc = f.read().lower()\n",
    "nltk.download('punkt')\n",
    "nltk.download('wordnet')\n",
    "sent_tokens = nltk.sent_tokenize(raw_doc)\n",
    "word_tokens = nltk.word_tokenize(raw_doc)"
   ]
  },
  {
   "cell_type": "code",
   "execution_count": 3,
   "id": "97648c80-c8de-428a-95f0-1af11fc77117",
   "metadata": {},
   "outputs": [],
   "source": [
    "lemmer = nltk.stem.WordNetLemmatizer()\n",
    "\n",
    "def LemTokens(tokens):\n",
    "    return [lemmer.lemmatize(token) for token in tokens]\n",
    "remove_punt_dict = dict((ord(punct), None) for punct in string.punctuation)\n",
    "def LemNormalize(text):\n",
    "    return LemTokens(nltk.word_tokenize(text.lower().translate(remove_punt_dict)))"
   ]
  },
  {
   "cell_type": "code",
   "execution_count": 4,
   "id": "ec82584c-4a4e-4602-adbb-fa0b73a74268",
   "metadata": {},
   "outputs": [],
   "source": [
    "GREET_INPUTS = [\"hello\", \"hi\",\"greetingd\",\"sup\",\"what's up\",\"hey\"]\n",
    "GREET_RESPONSES = [\"hi\",\"hey\",\"*nods*\",\"hi there\",\"hello\"]\n",
    "def greet(sentence):\n",
    "    for word in sentence.split():\n",
    "        if word.lower() in GREET_INPUTS:\n",
    "            return random.choice(GREET_RESPONSES)\n"
   ]
  },
  {
   "cell_type": "code",
   "execution_count": 5,
   "id": "be3737d0-1587-4cf4-a93c-b09d812ba667",
   "metadata": {},
   "outputs": [],
   "source": [
    "from sklearn.feature_extraction.text import TfidfVectorizer\n",
    "from sklearn.metrics.pairwise import cosine_similarity"
   ]
  },
  {
   "cell_type": "code",
   "execution_count": 6,
   "id": "ff1ecba7-1380-4b88-aa5e-d8b3844b1bb2",
   "metadata": {},
   "outputs": [],
   "source": [
    "def response(user_response):\n",
    "    robo1_response = ''\n",
    "    TfidfVec = TfidfVectorizer(tokenizer = LemNormalize, stop_words = 'english')\n",
    "    tfidf = TfidfVec.fit_transform(sent_tokens)\n",
    "    vals = cosine_similarity(tfidf[-1],tfidf)\n",
    "    idx = vals.argsort()[0][-2]\n",
    "    flat = vals.flatten()\n",
    "    flat.sort()\n",
    "    req_tfidf = flat[-2]\n",
    "    if req_tfidf == 0:\n",
    "        robo1_response += \"Sorry, I don't understand that!\"\n",
    "    else:\n",
    "        robo1_response += sent_tokens[idx]\n",
    "        return robo1_response"
   ]
  },
  {
   "cell_type": "code",
   "execution_count": 7,
   "id": "5665083f-3207-4acb-aa31-61296dc0db3e",
   "metadata": {},
   "outputs": [
    {
     "name": "stdout",
     "output_type": "stream",
     "text": [
      "BOT: My name is Stark. Let's have a conversation! Also, if you want to exit any time, just type Bye!\n"
     ]
    },
    {
     "name": "stdin",
     "output_type": "stream",
     "text": [
      " hi\n"
     ]
    },
    {
     "name": "stdout",
     "output_type": "stream",
     "text": [
      "BOT: hello\n"
     ]
    },
    {
     "name": "stdin",
     "output_type": "stream",
     "text": [
      " usa\n"
     ]
    },
    {
     "name": "stdout",
     "output_type": "stream",
     "text": [
      "BOT: "
     ]
    },
    {
     "name": "stderr",
     "output_type": "stream",
     "text": [
      "c:\\users\\acer\\appdata\\local\\programs\\python\\python39\\lib\\site-packages\\sklearn\\feature_extraction\\text.py:396: UserWarning: Your stop_words may be inconsistent with your preprocessing. Tokenizing the stop words generated tokens ['ha', 'le', 'u', 'wa'] not in stop_words.\n",
      "  warnings.warn(\n"
     ]
    },
    {
     "name": "stdout",
     "output_type": "stream",
     "text": [
      "he united states of america (u.s.a. or usa), commonly known as the united states (u.s. or us) or america, is a country primarily located in north america.\n"
     ]
    },
    {
     "name": "stdin",
     "output_type": "stream",
     "text": [
      " british\n"
     ]
    },
    {
     "name": "stdout",
     "output_type": "stream",
     "text": [
      "BOT: beginning in 1607, british colonization led to the establishment of the thirteen colonies in what is now the eastern united states.\n"
     ]
    },
    {
     "name": "stdin",
     "output_type": "stream",
     "text": [
      " war\n"
     ]
    },
    {
     "name": "stdout",
     "output_type": "stream",
     "text": [
      "BOT: the aftermath of the war left the united states and the soviet union as the world's two superpowers and led to the cold war.\n"
     ]
    },
    {
     "name": "stdin",
     "output_type": "stream",
     "text": [
      " wars\n"
     ]
    },
    {
     "name": "stdout",
     "output_type": "stream",
     "text": [
      "BOT: the aftermath of the war left the united states and the soviet union as the world's two superpowers and led to the cold war.\n"
     ]
    },
    {
     "name": "stdin",
     "output_type": "stream",
     "text": [
      " cold war\n"
     ]
    },
    {
     "name": "stdout",
     "output_type": "stream",
     "text": [
      "BOT: the aftermath of the war left the united states and the soviet union as the world's two superpowers and led to the cold war.\n"
     ]
    },
    {
     "name": "stdin",
     "output_type": "stream",
     "text": [
      " area\n"
     ]
    },
    {
     "name": "stdout",
     "output_type": "stream",
     "text": [
      "BOT: the united states is the world's third-largest country by both land and total area.\n"
     ]
    },
    {
     "name": "stdin",
     "output_type": "stream",
     "text": [
      " total area\n"
     ]
    },
    {
     "name": "stdout",
     "output_type": "stream",
     "text": [
      "BOT: the united states is the world's third-largest country by both land and total area.\n"
     ]
    },
    {
     "name": "stdin",
     "output_type": "stream",
     "text": [
      " established\n"
     ]
    },
    {
     "name": "stdout",
     "output_type": "stream",
     "text": [
      "BOT: by 1900, the united states had established itself as a great power, becoming the world's largest economy.\n"
     ]
    },
    {
     "name": "stdin",
     "output_type": "stream",
     "text": [
      " when was usa established\n"
     ]
    },
    {
     "name": "stdout",
     "output_type": "stream",
     "text": [
      "BOT: he united states of america (u.s.a. or usa), commonly known as the united states (u.s. or us) or america, is a country primarily located in north america.\n"
     ]
    },
    {
     "name": "stdin",
     "output_type": "stream",
     "text": [
      " thank you\n"
     ]
    },
    {
     "name": "stdout",
     "output_type": "stream",
     "text": [
      "BOT: You are welcome..\n"
     ]
    }
   ],
   "source": [
    "flag =True\n",
    "print(\"BOT: My name is GeoBot. Let's have a conversation! Also, if you want to exit any time, just type Bye!\")\n",
    "while(flag==True): \n",
    "    user_response = input()\n",
    "    user_response=user_response.lower()\n",
    "    if (user_response!= 'bye'):\n",
    "        if (user_response=='thanks' or user_response == 'thank you' ):\n",
    "            flag=False\n",
    "            print(\"BOT: You are welcome..\")\n",
    "        else:\n",
    "            if(greet (user_response)!=None): \n",
    "                print(\"BOT: \"+greet (user_response)) \n",
    "            else:\n",
    "                sent_tokens.append(user_response) \n",
    "                word_tokens=word_tokens+nltk.word_tokenize(user_response)\n",
    "                final_words=list (set (word_tokens))\n",
    "                print(\"BOT: \",end=\"\")\n",
    "                print (response(user_response))\n",
    "                sent_tokens.remove(user_response)\n",
    "    else:\n",
    "        flag = False\n",
    "        print(\"BOT: GoodBYe!!\")"
   ]
  },
  {
   "cell_type": "code",
   "execution_count": null,
   "id": "4f5c9ef2-4d96-4bb8-8688-0955a03108e7",
   "metadata": {},
   "outputs": [],
   "source": []
  }
 ],
 "metadata": {
  "kernelspec": {
   "display_name": "Python 3 (ipykernel)",
   "language": "python",
   "name": "python3"
  },
  "language_info": {
   "codemirror_mode": {
    "name": "ipython",
    "version": 3
   },
   "file_extension": ".py",
   "mimetype": "text/x-python",
   "name": "python",
   "nbconvert_exporter": "python",
   "pygments_lexer": "ipython3",
   "version": "3.9.5"
  }
 },
 "nbformat": 4,
 "nbformat_minor": 5
}
